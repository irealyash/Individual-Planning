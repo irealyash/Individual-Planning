{
 "cells": [
  {
   "cell_type": "markdown",
   "id": "a696f97d-3365-4b09-a87d-acff8134b3f8",
   "metadata": {},
   "source": [
    "GitHub Repo: https://github.com/irealyash/Individual-Planning/tree/master\n",
    "\n",
    "Overview:\n",
    "\n",
    "This project uses data collected from a Minecraft research server hosted by a UBC research group. The dataset is divided into two files:\n",
    "\n",
    "1. sessions.csv\n",
    "2. players.csv\n"
   ]
  },
  {
   "cell_type": "code",
   "execution_count": null,
   "id": "2a7ff699-6c2f-46ab-b76d-53dc713c5a4c",
   "metadata": {},
   "outputs": [],
   "source": [
    "library(repr)\n",
    "library(tidyverse)\n",
    "library(tidymodels)\n",
    "sessions <- read_csv(\"sessions.csv\")\n",
    "players <- read_csv(\"players.csv\")\n",
    "sessions |>\n",
    "head(5)\n",
    "players |>\n",
    "head(5)"
   ]
  },
  {
   "cell_type": "markdown",
   "id": "2f37dba5-cad7-44a7-8857-fc24bec2b7a8",
   "metadata": {},
   "source": [
    "Data Summary :\n",
    "\n",
    "1. sessions.csv: It contains columns with hashed emails of users, session start time and session end time in 2 different formats.\n",
    "2. players.csv: It contains columns with player exprience, newsletter subscription status , hashed emails of users, total played hours, name, gender and the player's age.\n",
    "\n",
    "Potential Issues:\n",
    "\n",
    "1. The data was collected through gameplay log and it may miss the time the player was offline and still add it in total hours played.\n",
    "2. There could be missing values in the data columns which need to be kept in mind.\n",
    "\n",
    "Broad Question :-\n",
    "\n",
    "What player characteristics and behaviours are most predictive of subscribing to a game-related newsletter, and how do these features differ between various player types?\n",
    "\n",
    "Specific Question :-\n",
    "\n",
    "Can a player’s total playtime, number of sessions, and average session length predict whether they subscribe to the newsletter?\n",
    "\n",
    "Understanding the characteristics and playing style of the players who have subscribed for the new letter will help design recruitment strategies and understanding engagement. Players who are generally more active and consistent are probably more interested in things beyond the game.\n",
    "\n",
    "Now lets visualize the data in different ways to analyze the data in more depth."
   ]
  },
  {
   "cell_type": "code",
   "execution_count": null,
   "id": "4bce0058-ee69-4adf-a3b8-1a7dec2470d8",
   "metadata": {},
   "outputs": [],
   "source": [
    "time_players_plot <- ggplot(players,aes(x=played_hours,color=as_factor(subscribe)))+\n",
    "geom_line(stat=\"count\")+xlim(c(0,3))+\n",
    "labs(title=\"Number of Players vs Total Time Played\",color=\"Subscription Status\"\n",
    "     ,x=\"Total Time Played\" , y=\"Number of Players\")\n",
    "time_players_plot"
   ]
  },
  {
   "cell_type": "markdown",
   "id": "c6ecbc6a-b351-4add-8433-a7d2c4872c15",
   "metadata": {},
   "source": [
    "Now we will analyze the average playtime of users."
   ]
  },
  {
   "cell_type": "code",
   "execution_count": 15,
   "id": "b8d683c3-69ae-46c6-a4f5-53aa04f89a2e",
   "metadata": {},
   "outputs": [
    {
     "data": {
      "text/html": [
       "<table class=\"dataframe\">\n",
       "<caption>A tibble: 7 × 3</caption>\n",
       "<thead>\n",
       "\t<tr><th scope=col>gender</th><th scope=col>mean_playing_time</th><th scope=col>na.rm</th></tr>\n",
       "\t<tr><th scope=col>&lt;chr&gt;</th><th scope=col>&lt;dbl&gt;</th><th scope=col>&lt;lgl&gt;</th></tr>\n",
       "</thead>\n",
       "<tbody>\n",
       "\t<tr><td>Agender          </td><td> 6.25000000</td><td>TRUE</td></tr>\n",
       "\t<tr><td>Female           </td><td>10.63513514</td><td>TRUE</td></tr>\n",
       "\t<tr><td>Male             </td><td> 4.12741935</td><td>TRUE</td></tr>\n",
       "\t<tr><td>Non-binary       </td><td>14.88000000</td><td>TRUE</td></tr>\n",
       "\t<tr><td>Other            </td><td> 0.20000000</td><td>TRUE</td></tr>\n",
       "\t<tr><td>Prefer not to say</td><td> 0.37272727</td><td>TRUE</td></tr>\n",
       "\t<tr><td>Two-Spirited     </td><td> 0.08333333</td><td>TRUE</td></tr>\n",
       "</tbody>\n",
       "</table>\n"
      ],
      "text/latex": [
       "A tibble: 7 × 3\n",
       "\\begin{tabular}{lll}\n",
       " gender & mean\\_playing\\_time & na.rm\\\\\n",
       " <chr> & <dbl> & <lgl>\\\\\n",
       "\\hline\n",
       "\t Agender           &  6.25000000 & TRUE\\\\\n",
       "\t Female            & 10.63513514 & TRUE\\\\\n",
       "\t Male              &  4.12741935 & TRUE\\\\\n",
       "\t Non-binary        & 14.88000000 & TRUE\\\\\n",
       "\t Other             &  0.20000000 & TRUE\\\\\n",
       "\t Prefer not to say &  0.37272727 & TRUE\\\\\n",
       "\t Two-Spirited      &  0.08333333 & TRUE\\\\\n",
       "\\end{tabular}\n"
      ],
      "text/markdown": [
       "\n",
       "A tibble: 7 × 3\n",
       "\n",
       "| gender &lt;chr&gt; | mean_playing_time &lt;dbl&gt; | na.rm &lt;lgl&gt; |\n",
       "|---|---|---|\n",
       "| Agender           |  6.25000000 | TRUE |\n",
       "| Female            | 10.63513514 | TRUE |\n",
       "| Male              |  4.12741935 | TRUE |\n",
       "| Non-binary        | 14.88000000 | TRUE |\n",
       "| Other             |  0.20000000 | TRUE |\n",
       "| Prefer not to say |  0.37272727 | TRUE |\n",
       "| Two-Spirited      |  0.08333333 | TRUE |\n",
       "\n"
      ],
      "text/plain": [
       "  gender            mean_playing_time na.rm\n",
       "1 Agender            6.25000000       TRUE \n",
       "2 Female            10.63513514       TRUE \n",
       "3 Male               4.12741935       TRUE \n",
       "4 Non-binary        14.88000000       TRUE \n",
       "5 Other              0.20000000       TRUE \n",
       "6 Prefer not to say  0.37272727       TRUE \n",
       "7 Two-Spirited       0.08333333       TRUE "
      ]
     },
     "metadata": {},
     "output_type": "display_data"
    }
   ],
   "source": [
    "players |>\n",
    "group_by(gender) |>\n",
    "  summarise(mean_playing_time=mean(played_hours),na.rm = TRUE)"
   ]
  },
  {
   "cell_type": "markdown",
   "id": "7052fbd5-eaa6-4342-8a1b-e89db41b0ccc",
   "metadata": {},
   "source": [
    "The above data clearly depicts that the players who subscribes for the newletter we more active and had an overall higher total \n",
    "playing time. The data also show regardless the subscription status most players have short platime. This trend also suggests that \n",
    "subscription is linked to engagemenet with the game. It also shows the high differences in the playing time of few people which \n",
    "leads to the value of mean played time to increase significantly."
   ]
  },
  {
   "cell_type": "markdown",
   "id": "83713f80-b143-46bd-a5e2-a2a410a418ae",
   "metadata": {},
   "source": [
    "Proposed Method\n",
    "K-Nearest Neighbors (KNN) Classification\n",
    "\n",
    "It is the suitable method for this data because we need to predict whether a player is going to subscribe for the game's newsletter or not because it makes predictions based on similarity between observations which is perfect for behavioural data where players with similar gaming activity will have similar inclincation towards getting a newsletter subscription.\n",
    "\n",
    "The assumptions taken into account for this method is that the data is scaled properly and each variable contributes equally to the prediction and the selected K value is appropriate for both recall and precision of the function.\n",
    "\n",
    "Limitation of this method :- \n",
    "1. In case of a large data set it would take a lot of time to complete the prediction.\n",
    "2. It does not explain why a certain player is classified as subscribed or not.\n",
    "\n",
    "Model Selection :-\n",
    "\n",
    "1. The dataset will be split into training (80%) and testing (20%) sets.\n",
    "2. 5-fold cross-validation will be used on the training data to tune k.\n",
    "3. Models will be compared based on accuracy.\n",
    "4. The optimal k value will be chosen to maximize performance on validation data.\n",
    "5. Final performance will be reported on the test set.\n"
   ]
  }
 ],
 "metadata": {
  "kernelspec": {
   "display_name": "R",
   "language": "R",
   "name": "ir"
  },
  "language_info": {
   "codemirror_mode": "r",
   "file_extension": ".r",
   "mimetype": "text/x-r-source",
   "name": "R",
   "pygments_lexer": "r",
   "version": "4.3.3"
  }
 },
 "nbformat": 4,
 "nbformat_minor": 5
}
