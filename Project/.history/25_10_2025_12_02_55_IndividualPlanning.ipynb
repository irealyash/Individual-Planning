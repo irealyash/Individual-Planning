{
 "cells": [
  {
   "cell_type": "markdown",
   "id": "a696f97d-3365-4b09-a87d-acff8134b3f8",
   "metadata": {},
   "source": [
    "Overview\n",
    "This project uses data collected from a Minecraft research server hosted by a UBC research group.\n",
    "The dataset is divided into two files:\n",
    "1. sessions.csv\n",
    "2. players.csv"
   ]
  },
  {
   "cell_type": "code",
   "execution_count": null,
   "id": "4d27ac49-d294-4c16-86f6-f8a14443be1a",
   "metadata": {},
   "outputs": [],
   "source": [
    "library(repr)\n",
    "library(tidyverse)\n",
    "library(tidymodels)\n",
    "sessions <- read_csv(\"sessions.csv\")\n",
    "players <- read_csv(\"players.csv\")\n",
    "sessions |>\n",
    "head(5)\n",
    "players |>\n",
    "head(5)"
   ]
  },
  {
   "cell_type": "markdown",
   "id": "261d5d6d-cd61-4026-baf0-fa59dca8a532",
   "metadata": {},
   "source": [
    "\n",
    "Data Summary :\n",
    "\n",
    "1. sessions.csv: It contains columns with hashed emails of users, session start time and session end time in 2 different formats.\n",
    "2. players.csv: It contains columns with player exprience, newsletter subscription status , hashed emails of users, total played hours, name, gender and the player's age.\n",
    "\n",
    "Potential Issues:\n",
    "\n",
    "1. The data was collected through gameplay log and it may miss the time the player was offline and still add it in total hours played.\n",
    "2. There could be missing values in the data columns which need to be kept in mind."
   ]
  },
  {
   "cell_type": "markdown",
   "id": "eb36e964-f192-423b-8a61-729751a30cca",
   "metadata": {},
   "source": [
    "\n",
    "Broad Question :-\n",
    "\n",
    "What player characteristics and behaviours are most predictive of subscribing to a game-related newsletter, and how do\n",
    "these features differ between various player types?\n",
    "\n",
    "Specific Question :-\n",
    "\n",
    "Can a player’s total playtime, number of sessions, and average session length predict whether they subscribe to the \n",
    "newsletter?\n",
    "\n",
    "Understanding the characteristics and playing style of the players who have subscribed for the new letter will help design recruitment strategies and understanding engagement. Players who are generally more active and consistent are probably more interested in things beyond the game. "
   ]
  },
  {
   "cell_type": "markdown",
   "id": "e5bce7d8-5bf4-44b3-8450-1c002654d8bf",
   "metadata": {},
   "source": [
    "Now lets visualize the data in different ways to analyze the data in more depth."
   ]
  },
  {
   "cell_type": "code",
   "execution_count": null,
   "id": "d3814eac-a92d-4706-9506-ff6fd8327705",
   "metadata": {},
   "outputs": [],
   "source": [
    "time_players_plot <- ggplot(players,aes(x=played_hours))+\n",
    "geom_histogram(xlim(c(played_hours(\"0\"),played_hours(\"3\")))),  position=\"identity\",binwidth = 0.1)+\n",
    "labs(title=\"Number of Players vs Total Time Played\",fill=\"Newsletter Subscription Status\"\n",
    "     ,x=\"Total Time Played\" , y=\"Number of Players\")\n",
    "time_players_plot"
   ]
  },
  {
   "cell_type": "code",
   "execution_count": null,
   "id": "a720802c-43e7-4b15-ad8d-7f093d155374",
   "metadata": {},
   "outputs": [],
   "source": []
  }
 ],
 "metadata": {
  "kernelspec": {
   "display_name": "R",
   "language": "R",
   "name": "ir"
  },
  "language_info": {
   "codemirror_mode": "r",
   "file_extension": ".r",
   "mimetype": "text/x-r-source",
   "name": "R",
   "pygments_lexer": "r",
   "version": "4.3.3"
  }
 },
 "nbformat": 4,
 "nbformat_minor": 5
}
